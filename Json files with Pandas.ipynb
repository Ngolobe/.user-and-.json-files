{
 "cells": [
  {
   "cell_type": "markdown",
   "metadata": {},
   "source": [
    "# Getting To Know Your Data"
   ]
  },
  {
   "cell_type": "markdown",
   "metadata": {},
   "source": [
    "###  Use the u.user file and assign it to a dataframe "
   ]
  },
  {
   "cell_type": "code",
   "execution_count": 1,
   "metadata": {},
   "outputs": [],
   "source": [
    "import pandas as pd \n",
    "# Read data from file 'filename.csv' \n",
    "# (in the same directory that your python process is based)\n",
    "# Control delimiters, rows, column names with read_csv (see later) \n",
    "user_df = pd.read_csv(\"u.user\",delimiter='|') "
   ]
  },
  {
   "cell_type": "markdown",
   "metadata": {},
   "source": [
    "###  See the first 5 entries"
   ]
  },
  {
   "cell_type": "code",
   "execution_count": 2,
   "metadata": {},
   "outputs": [
    {
     "data": {
      "text/html": [
       "<div>\n",
       "<style scoped>\n",
       "    .dataframe tbody tr th:only-of-type {\n",
       "        vertical-align: middle;\n",
       "    }\n",
       "\n",
       "    .dataframe tbody tr th {\n",
       "        vertical-align: top;\n",
       "    }\n",
       "\n",
       "    .dataframe thead th {\n",
       "        text-align: right;\n",
       "    }\n",
       "</style>\n",
       "<table border=\"1\" class=\"dataframe\">\n",
       "  <thead>\n",
       "    <tr style=\"text-align: right;\">\n",
       "      <th></th>\n",
       "      <th>user_id</th>\n",
       "      <th>age</th>\n",
       "      <th>gender</th>\n",
       "      <th>occupation</th>\n",
       "      <th>zip_code</th>\n",
       "    </tr>\n",
       "  </thead>\n",
       "  <tbody>\n",
       "    <tr>\n",
       "      <th>0</th>\n",
       "      <td>1</td>\n",
       "      <td>24</td>\n",
       "      <td>M</td>\n",
       "      <td>technician</td>\n",
       "      <td>85711</td>\n",
       "    </tr>\n",
       "    <tr>\n",
       "      <th>1</th>\n",
       "      <td>2</td>\n",
       "      <td>53</td>\n",
       "      <td>F</td>\n",
       "      <td>other</td>\n",
       "      <td>94043</td>\n",
       "    </tr>\n",
       "    <tr>\n",
       "      <th>2</th>\n",
       "      <td>3</td>\n",
       "      <td>23</td>\n",
       "      <td>M</td>\n",
       "      <td>writer</td>\n",
       "      <td>32067</td>\n",
       "    </tr>\n",
       "    <tr>\n",
       "      <th>3</th>\n",
       "      <td>4</td>\n",
       "      <td>24</td>\n",
       "      <td>M</td>\n",
       "      <td>technician</td>\n",
       "      <td>43537</td>\n",
       "    </tr>\n",
       "    <tr>\n",
       "      <th>4</th>\n",
       "      <td>5</td>\n",
       "      <td>33</td>\n",
       "      <td>F</td>\n",
       "      <td>other</td>\n",
       "      <td>15213</td>\n",
       "    </tr>\n",
       "  </tbody>\n",
       "</table>\n",
       "</div>"
      ],
      "text/plain": [
       "   user_id  age gender  occupation zip_code\n",
       "0        1   24      M  technician    85711\n",
       "1        2   53      F       other    94043\n",
       "2        3   23      M      writer    32067\n",
       "3        4   24      M  technician    43537\n",
       "4        5   33      F       other    15213"
      ]
     },
     "execution_count": 2,
     "metadata": {},
     "output_type": "execute_result"
    }
   ],
   "source": [
    "# Preview the first 5 lines of the loaded data \n",
    "user_df.head()"
   ]
  },
  {
   "cell_type": "markdown",
   "metadata": {},
   "source": [
    " ###  What is the number of observations in the dataset?"
   ]
  },
  {
   "cell_type": "code",
   "execution_count": 3,
   "metadata": {},
   "outputs": [
    {
     "data": {
      "text/plain": [
       "user_id       943\n",
       "age           943\n",
       "gender        943\n",
       "occupation    943\n",
       "zip_code      943\n",
       "dtype: int64"
      ]
     },
     "execution_count": 3,
     "metadata": {},
     "output_type": "execute_result"
    }
   ],
   "source": [
    "user_df.count()\n",
    "#or user_df.shape[0]"
   ]
  },
  {
   "cell_type": "markdown",
   "metadata": {},
   "source": [
    " ### What is the number of columns in the dataset?"
   ]
  },
  {
   "cell_type": "code",
   "execution_count": 4,
   "metadata": {},
   "outputs": [
    {
     "data": {
      "text/plain": [
       "5"
      ]
     },
     "execution_count": 4,
     "metadata": {},
     "output_type": "execute_result"
    }
   ],
   "source": [
    "user_df.shape[1]"
   ]
  },
  {
   "cell_type": "markdown",
   "metadata": {},
   "source": [
    "### Print the name of all the columns."
   ]
  },
  {
   "cell_type": "code",
   "execution_count": 5,
   "metadata": {},
   "outputs": [
    {
     "data": {
      "text/plain": [
       "Index(['user_id', 'age', 'gender', 'occupation', 'zip_code'], dtype='object')"
      ]
     },
     "execution_count": 5,
     "metadata": {},
     "output_type": "execute_result"
    }
   ],
   "source": [
    "user_df.columns"
   ]
  },
  {
   "cell_type": "markdown",
   "metadata": {},
   "source": [
    "### How is the dataset indexed?"
   ]
  },
  {
   "cell_type": "code",
   "execution_count": 6,
   "metadata": {},
   "outputs": [
    {
     "data": {
      "text/plain": [
       "RangeIndex(start=0, stop=943, step=1)"
      ]
     },
     "execution_count": 6,
     "metadata": {},
     "output_type": "execute_result"
    }
   ],
   "source": [
    "user_df.index"
   ]
  },
  {
   "cell_type": "markdown",
   "metadata": {},
   "source": [
    "### What is datatype of each cloumn?"
   ]
  },
  {
   "cell_type": "code",
   "execution_count": 7,
   "metadata": {},
   "outputs": [
    {
     "data": {
      "text/plain": [
       "user_id        int64\n",
       "age            int64\n",
       "gender        object\n",
       "occupation    object\n",
       "zip_code      object\n",
       "dtype: object"
      ]
     },
     "execution_count": 7,
     "metadata": {},
     "output_type": "execute_result"
    }
   ],
   "source": [
    "user_df.dtypes"
   ]
  },
  {
   "cell_type": "markdown",
   "metadata": {},
   "source": [
    "###  How many different occupation are in this dataset?"
   ]
  },
  {
   "cell_type": "code",
   "execution_count": 8,
   "metadata": {},
   "outputs": [
    {
     "data": {
      "text/plain": [
       "21"
      ]
     },
     "execution_count": 8,
     "metadata": {},
     "output_type": "execute_result"
    }
   ],
   "source": [
    "user_df.nunique(axis=0)['occupation']"
   ]
  },
  {
   "cell_type": "markdown",
   "metadata": {},
   "source": [
    "### What is the most frequent occupation?"
   ]
  },
  {
   "cell_type": "code",
   "execution_count": 9,
   "metadata": {},
   "outputs": [
    {
     "data": {
      "text/plain": [
       "'student'"
      ]
     },
     "execution_count": 9,
     "metadata": {},
     "output_type": "execute_result"
    }
   ],
   "source": [
    "user_df['occupation'].value_counts().idxmax()"
   ]
  },
  {
   "cell_type": "markdown",
   "metadata": {},
   "source": [
    "### Summarize the DataFrame."
   ]
  },
  {
   "cell_type": "code",
   "execution_count": 10,
   "metadata": {},
   "outputs": [
    {
     "data": {
      "text/html": [
       "<div>\n",
       "<style scoped>\n",
       "    .dataframe tbody tr th:only-of-type {\n",
       "        vertical-align: middle;\n",
       "    }\n",
       "\n",
       "    .dataframe tbody tr th {\n",
       "        vertical-align: top;\n",
       "    }\n",
       "\n",
       "    .dataframe thead th {\n",
       "        text-align: right;\n",
       "    }\n",
       "</style>\n",
       "<table border=\"1\" class=\"dataframe\">\n",
       "  <thead>\n",
       "    <tr style=\"text-align: right;\">\n",
       "      <th></th>\n",
       "      <th>user_id</th>\n",
       "      <th>age</th>\n",
       "    </tr>\n",
       "  </thead>\n",
       "  <tbody>\n",
       "    <tr>\n",
       "      <th>count</th>\n",
       "      <td>943.000000</td>\n",
       "      <td>943.000000</td>\n",
       "    </tr>\n",
       "    <tr>\n",
       "      <th>mean</th>\n",
       "      <td>472.000000</td>\n",
       "      <td>34.051962</td>\n",
       "    </tr>\n",
       "    <tr>\n",
       "      <th>std</th>\n",
       "      <td>272.364951</td>\n",
       "      <td>12.192740</td>\n",
       "    </tr>\n",
       "    <tr>\n",
       "      <th>min</th>\n",
       "      <td>1.000000</td>\n",
       "      <td>7.000000</td>\n",
       "    </tr>\n",
       "    <tr>\n",
       "      <th>25%</th>\n",
       "      <td>236.500000</td>\n",
       "      <td>25.000000</td>\n",
       "    </tr>\n",
       "    <tr>\n",
       "      <th>50%</th>\n",
       "      <td>472.000000</td>\n",
       "      <td>31.000000</td>\n",
       "    </tr>\n",
       "    <tr>\n",
       "      <th>75%</th>\n",
       "      <td>707.500000</td>\n",
       "      <td>43.000000</td>\n",
       "    </tr>\n",
       "    <tr>\n",
       "      <th>max</th>\n",
       "      <td>943.000000</td>\n",
       "      <td>73.000000</td>\n",
       "    </tr>\n",
       "  </tbody>\n",
       "</table>\n",
       "</div>"
      ],
      "text/plain": [
       "          user_id         age\n",
       "count  943.000000  943.000000\n",
       "mean   472.000000   34.051962\n",
       "std    272.364951   12.192740\n",
       "min      1.000000    7.000000\n",
       "25%    236.500000   25.000000\n",
       "50%    472.000000   31.000000\n",
       "75%    707.500000   43.000000\n",
       "max    943.000000   73.000000"
      ]
     },
     "execution_count": 10,
     "metadata": {},
     "output_type": "execute_result"
    }
   ],
   "source": [
    "user_df.describe()"
   ]
  },
  {
   "cell_type": "markdown",
   "metadata": {},
   "source": [
    "### Summarize all the columns"
   ]
  },
  {
   "cell_type": "code",
   "execution_count": 11,
   "metadata": {},
   "outputs": [
    {
     "data": {
      "text/html": [
       "<div>\n",
       "<style scoped>\n",
       "    .dataframe tbody tr th:only-of-type {\n",
       "        vertical-align: middle;\n",
       "    }\n",
       "\n",
       "    .dataframe tbody tr th {\n",
       "        vertical-align: top;\n",
       "    }\n",
       "\n",
       "    .dataframe thead th {\n",
       "        text-align: right;\n",
       "    }\n",
       "</style>\n",
       "<table border=\"1\" class=\"dataframe\">\n",
       "  <thead>\n",
       "    <tr style=\"text-align: right;\">\n",
       "      <th></th>\n",
       "      <th>user_id</th>\n",
       "      <th>age</th>\n",
       "      <th>gender</th>\n",
       "      <th>occupation</th>\n",
       "      <th>zip_code</th>\n",
       "    </tr>\n",
       "  </thead>\n",
       "  <tbody>\n",
       "    <tr>\n",
       "      <th>count</th>\n",
       "      <td>943.000000</td>\n",
       "      <td>943.000000</td>\n",
       "      <td>943</td>\n",
       "      <td>943</td>\n",
       "      <td>943</td>\n",
       "    </tr>\n",
       "    <tr>\n",
       "      <th>unique</th>\n",
       "      <td>NaN</td>\n",
       "      <td>NaN</td>\n",
       "      <td>2</td>\n",
       "      <td>21</td>\n",
       "      <td>795</td>\n",
       "    </tr>\n",
       "    <tr>\n",
       "      <th>top</th>\n",
       "      <td>NaN</td>\n",
       "      <td>NaN</td>\n",
       "      <td>M</td>\n",
       "      <td>student</td>\n",
       "      <td>55414</td>\n",
       "    </tr>\n",
       "    <tr>\n",
       "      <th>freq</th>\n",
       "      <td>NaN</td>\n",
       "      <td>NaN</td>\n",
       "      <td>670</td>\n",
       "      <td>196</td>\n",
       "      <td>9</td>\n",
       "    </tr>\n",
       "    <tr>\n",
       "      <th>mean</th>\n",
       "      <td>472.000000</td>\n",
       "      <td>34.051962</td>\n",
       "      <td>NaN</td>\n",
       "      <td>NaN</td>\n",
       "      <td>NaN</td>\n",
       "    </tr>\n",
       "    <tr>\n",
       "      <th>std</th>\n",
       "      <td>272.364951</td>\n",
       "      <td>12.192740</td>\n",
       "      <td>NaN</td>\n",
       "      <td>NaN</td>\n",
       "      <td>NaN</td>\n",
       "    </tr>\n",
       "    <tr>\n",
       "      <th>min</th>\n",
       "      <td>1.000000</td>\n",
       "      <td>7.000000</td>\n",
       "      <td>NaN</td>\n",
       "      <td>NaN</td>\n",
       "      <td>NaN</td>\n",
       "    </tr>\n",
       "    <tr>\n",
       "      <th>25%</th>\n",
       "      <td>236.500000</td>\n",
       "      <td>25.000000</td>\n",
       "      <td>NaN</td>\n",
       "      <td>NaN</td>\n",
       "      <td>NaN</td>\n",
       "    </tr>\n",
       "    <tr>\n",
       "      <th>50%</th>\n",
       "      <td>472.000000</td>\n",
       "      <td>31.000000</td>\n",
       "      <td>NaN</td>\n",
       "      <td>NaN</td>\n",
       "      <td>NaN</td>\n",
       "    </tr>\n",
       "    <tr>\n",
       "      <th>75%</th>\n",
       "      <td>707.500000</td>\n",
       "      <td>43.000000</td>\n",
       "      <td>NaN</td>\n",
       "      <td>NaN</td>\n",
       "      <td>NaN</td>\n",
       "    </tr>\n",
       "    <tr>\n",
       "      <th>max</th>\n",
       "      <td>943.000000</td>\n",
       "      <td>73.000000</td>\n",
       "      <td>NaN</td>\n",
       "      <td>NaN</td>\n",
       "      <td>NaN</td>\n",
       "    </tr>\n",
       "  </tbody>\n",
       "</table>\n",
       "</div>"
      ],
      "text/plain": [
       "           user_id         age gender occupation zip_code\n",
       "count   943.000000  943.000000    943        943      943\n",
       "unique         NaN         NaN      2         21      795\n",
       "top            NaN         NaN      M    student    55414\n",
       "freq           NaN         NaN    670        196        9\n",
       "mean    472.000000   34.051962    NaN        NaN      NaN\n",
       "std     272.364951   12.192740    NaN        NaN      NaN\n",
       "min       1.000000    7.000000    NaN        NaN      NaN\n",
       "25%     236.500000   25.000000    NaN        NaN      NaN\n",
       "50%     472.000000   31.000000    NaN        NaN      NaN\n",
       "75%     707.500000   43.000000    NaN        NaN      NaN\n",
       "max     943.000000   73.000000    NaN        NaN      NaN"
      ]
     },
     "execution_count": 11,
     "metadata": {},
     "output_type": "execute_result"
    }
   ],
   "source": [
    "user_df.describe( include='all')"
   ]
  },
  {
   "cell_type": "markdown",
   "metadata": {},
   "source": [
    "### Summarize only the occupation column"
   ]
  },
  {
   "cell_type": "code",
   "execution_count": 12,
   "metadata": {},
   "outputs": [
    {
     "data": {
      "text/plain": [
       "count         943\n",
       "unique         21\n",
       "top       student\n",
       "freq          196\n",
       "Name: occupation, dtype: object"
      ]
     },
     "execution_count": 12,
     "metadata": {},
     "output_type": "execute_result"
    }
   ],
   "source": [
    "user_df['occupation'].describe()"
   ]
  },
  {
   "cell_type": "markdown",
   "metadata": {},
   "source": [
    "### What is the age with least occurrence?"
   ]
  },
  {
   "cell_type": "code",
   "execution_count": 13,
   "metadata": {},
   "outputs": [
    {
     "data": {
      "text/plain": [
       "11"
      ]
     },
     "execution_count": 13,
     "metadata": {},
     "output_type": "execute_result"
    }
   ],
   "source": [
    "user_df['age'].value_counts().idxmin()\n",
    "\n",
    "#they're quite many. How do we extract all of them?"
   ]
  },
  {
   "cell_type": "markdown",
   "metadata": {},
   "source": [
    "# Load Json file"
   ]
  },
  {
   "cell_type": "markdown",
   "metadata": {
    "ExecuteTime": {
     "end_time": "2020-05-18T06:53:21.425245Z",
     "start_time": "2020-05-18T06:53:21.419400Z"
    }
   },
   "source": [
    "## read a raw_nyc_phil.json data"
   ]
  },
  {
   "cell_type": "code",
   "execution_count": 14,
   "metadata": {},
   "outputs": [
    {
     "data": {
      "text/html": [
       "<div>\n",
       "<style scoped>\n",
       "    .dataframe tbody tr th:only-of-type {\n",
       "        vertical-align: middle;\n",
       "    }\n",
       "\n",
       "    .dataframe tbody tr th {\n",
       "        vertical-align: top;\n",
       "    }\n",
       "\n",
       "    .dataframe thead th {\n",
       "        text-align: right;\n",
       "    }\n",
       "</style>\n",
       "<table border=\"1\" class=\"dataframe\">\n",
       "  <thead>\n",
       "    <tr style=\"text-align: right;\">\n",
       "      <th></th>\n",
       "      <th>programs</th>\n",
       "    </tr>\n",
       "  </thead>\n",
       "  <tbody>\n",
       "    <tr>\n",
       "      <th>0</th>\n",
       "      <td>{'season': '1842-43', 'orchestra': 'New York P...</td>\n",
       "    </tr>\n",
       "    <tr>\n",
       "      <th>1</th>\n",
       "      <td>{'season': '1842-43', 'orchestra': 'New York P...</td>\n",
       "    </tr>\n",
       "    <tr>\n",
       "      <th>2</th>\n",
       "      <td>{'season': '1842-43', 'orchestra': 'Musicians ...</td>\n",
       "    </tr>\n",
       "    <tr>\n",
       "      <th>3</th>\n",
       "      <td>{'season': '1842-43', 'orchestra': 'New York P...</td>\n",
       "    </tr>\n",
       "    <tr>\n",
       "      <th>4</th>\n",
       "      <td>{'season': '1843-44', 'orchestra': 'New York P...</td>\n",
       "    </tr>\n",
       "    <tr>\n",
       "      <th>...</th>\n",
       "      <td>...</td>\n",
       "    </tr>\n",
       "    <tr>\n",
       "      <th>13949</th>\n",
       "      <td>{'season': '2016-17', 'orchestra': 'Musicians ...</td>\n",
       "    </tr>\n",
       "    <tr>\n",
       "      <th>13950</th>\n",
       "      <td>{'season': '2016-17', 'orchestra': 'New York P...</td>\n",
       "    </tr>\n",
       "    <tr>\n",
       "      <th>13951</th>\n",
       "      <td>{'season': '2016-17', 'orchestra': 'New York P...</td>\n",
       "    </tr>\n",
       "    <tr>\n",
       "      <th>13952</th>\n",
       "      <td>{'season': '2016-17', 'orchestra': 'New York P...</td>\n",
       "    </tr>\n",
       "    <tr>\n",
       "      <th>13953</th>\n",
       "      <td>{'season': '2016-17', 'orchestra': 'New York P...</td>\n",
       "    </tr>\n",
       "  </tbody>\n",
       "</table>\n",
       "<p>13954 rows × 1 columns</p>\n",
       "</div>"
      ],
      "text/plain": [
       "                                                programs\n",
       "0      {'season': '1842-43', 'orchestra': 'New York P...\n",
       "1      {'season': '1842-43', 'orchestra': 'New York P...\n",
       "2      {'season': '1842-43', 'orchestra': 'Musicians ...\n",
       "3      {'season': '1842-43', 'orchestra': 'New York P...\n",
       "4      {'season': '1843-44', 'orchestra': 'New York P...\n",
       "...                                                  ...\n",
       "13949  {'season': '2016-17', 'orchestra': 'Musicians ...\n",
       "13950  {'season': '2016-17', 'orchestra': 'New York P...\n",
       "13951  {'season': '2016-17', 'orchestra': 'New York P...\n",
       "13952  {'season': '2016-17', 'orchestra': 'New York P...\n",
       "13953  {'season': '2016-17', 'orchestra': 'New York P...\n",
       "\n",
       "[13954 rows x 1 columns]"
      ]
     },
     "execution_count": 14,
     "metadata": {},
     "output_type": "execute_result"
    }
   ],
   "source": [
    "json_df = pd.read_json('raw_nyc_phil.json', dtype=\"utf-8\")\n",
    "json_df"
   ]
  },
  {
   "cell_type": "markdown",
   "metadata": {},
   "source": [
    "## Normalize a json data so that you get an output with columns\n",
    "\n",
    "Date \teventType \tVenue \tLocation \tTime \tid \torchestra \tprogramID \tseason"
   ]
  },
  {
   "cell_type": "code",
   "execution_count": 15,
   "metadata": {},
   "outputs": [
    {
     "data": {
      "text/html": [
       "<div>\n",
       "<style scoped>\n",
       "    .dataframe tbody tr th:only-of-type {\n",
       "        vertical-align: middle;\n",
       "    }\n",
       "\n",
       "    .dataframe tbody tr th {\n",
       "        vertical-align: top;\n",
       "    }\n",
       "\n",
       "    .dataframe thead th {\n",
       "        text-align: right;\n",
       "    }\n",
       "</style>\n",
       "<table border=\"1\" class=\"dataframe\">\n",
       "  <thead>\n",
       "    <tr style=\"text-align: right;\">\n",
       "      <th></th>\n",
       "      <th>Date</th>\n",
       "      <th>eventType</th>\n",
       "      <th>Venue</th>\n",
       "      <th>Location</th>\n",
       "      <th>Time</th>\n",
       "      <th>id</th>\n",
       "      <th>orchestra</th>\n",
       "      <th>programID</th>\n",
       "      <th>season</th>\n",
       "    </tr>\n",
       "  </thead>\n",
       "  <tbody>\n",
       "    <tr>\n",
       "      <th>0</th>\n",
       "      <td>1842-12-07T05:00:00Z</td>\n",
       "      <td>Subscription Season</td>\n",
       "      <td>Apollo Rooms</td>\n",
       "      <td>Manhattan, NY</td>\n",
       "      <td>8:00PM</td>\n",
       "      <td>38e072a7-8fc9-4f9a-8eac-3957905c0002</td>\n",
       "      <td>New York Philharmonic</td>\n",
       "      <td>3853</td>\n",
       "      <td>1842-43</td>\n",
       "    </tr>\n",
       "    <tr>\n",
       "      <th>1</th>\n",
       "      <td>1843-02-18T05:00:00Z</td>\n",
       "      <td>Subscription Season</td>\n",
       "      <td>Apollo Rooms</td>\n",
       "      <td>Manhattan, NY</td>\n",
       "      <td>8:00PM</td>\n",
       "      <td>c7b2b95c-5e0b-431c-a340-5b37fc860b34</td>\n",
       "      <td>New York Philharmonic</td>\n",
       "      <td>5178</td>\n",
       "      <td>1842-43</td>\n",
       "    </tr>\n",
       "    <tr>\n",
       "      <th>2</th>\n",
       "      <td>1843-04-07T05:00:00Z</td>\n",
       "      <td>Special</td>\n",
       "      <td>Apollo Rooms</td>\n",
       "      <td>Manhattan, NY</td>\n",
       "      <td>8:00PM</td>\n",
       "      <td>894e1a52-1ae5-4fa7-aec0-b99997555a37</td>\n",
       "      <td>Musicians from the New York Philharmonic</td>\n",
       "      <td>10785</td>\n",
       "      <td>1842-43</td>\n",
       "    </tr>\n",
       "    <tr>\n",
       "      <th>3</th>\n",
       "      <td>1843-04-22T05:00:00Z</td>\n",
       "      <td>Subscription Season</td>\n",
       "      <td>Apollo Rooms</td>\n",
       "      <td>Manhattan, NY</td>\n",
       "      <td>8:00PM</td>\n",
       "      <td>34ec2c2b-3297-4716-9831-b538310462b7</td>\n",
       "      <td>New York Philharmonic</td>\n",
       "      <td>5887</td>\n",
       "      <td>1842-43</td>\n",
       "    </tr>\n",
       "    <tr>\n",
       "      <th>4</th>\n",
       "      <td>1843-11-18T05:00:00Z</td>\n",
       "      <td>Subscription Season</td>\n",
       "      <td>Apollo Rooms</td>\n",
       "      <td>Manhattan, NY</td>\n",
       "      <td>None</td>\n",
       "      <td>610a4acc-94e4-4cd6-bdc1-8ad020edc7e9</td>\n",
       "      <td>New York Philharmonic</td>\n",
       "      <td>305</td>\n",
       "      <td>1843-44</td>\n",
       "    </tr>\n",
       "    <tr>\n",
       "      <th>...</th>\n",
       "      <td>...</td>\n",
       "      <td>...</td>\n",
       "      <td>...</td>\n",
       "      <td>...</td>\n",
       "      <td>...</td>\n",
       "      <td>...</td>\n",
       "      <td>...</td>\n",
       "      <td>...</td>\n",
       "      <td>...</td>\n",
       "    </tr>\n",
       "    <tr>\n",
       "      <th>21602</th>\n",
       "      <td>2017-06-24T04:00:00Z</td>\n",
       "      <td>Chamber</td>\n",
       "      <td>Guild Hall</td>\n",
       "      <td>East Hampton, NY</td>\n",
       "      <td>None</td>\n",
       "      <td>3d50968c-2e8b-405f-969c-ba36f941f393</td>\n",
       "      <td>Musicians from the New York Philharmonic</td>\n",
       "      <td>14189</td>\n",
       "      <td>2016-17</td>\n",
       "    </tr>\n",
       "    <tr>\n",
       "      <th>21603</th>\n",
       "      <td>2017-07-02T04:00:00Z</td>\n",
       "      <td>Tour</td>\n",
       "      <td>Shanghai Symphony Hall</td>\n",
       "      <td>Shanghai, CHINA</td>\n",
       "      <td>7:30PM</td>\n",
       "      <td>adb9fc8b-95bc-47d0-9f4b-78fc242f1f8f</td>\n",
       "      <td>New York Philharmonic</td>\n",
       "      <td>14146</td>\n",
       "      <td>2016-17</td>\n",
       "    </tr>\n",
       "    <tr>\n",
       "      <th>21604</th>\n",
       "      <td>2017-07-03T04:00:00Z</td>\n",
       "      <td>Tour</td>\n",
       "      <td>Shanghai Symphony Hall</td>\n",
       "      <td>Shanghai, CHINA</td>\n",
       "      <td>7:30PM</td>\n",
       "      <td>f072c652-c452-4ad4-975a-f6abd5ff8b4d</td>\n",
       "      <td>New York Philharmonic</td>\n",
       "      <td>14148</td>\n",
       "      <td>2016-17</td>\n",
       "    </tr>\n",
       "    <tr>\n",
       "      <th>21605</th>\n",
       "      <td>2017-07-04T04:00:00Z</td>\n",
       "      <td>Tour - Young People's Concert</td>\n",
       "      <td>Shanghai Symphony Hall--Chamber Hall</td>\n",
       "      <td>Shanghai, CHINA</td>\n",
       "      <td>7:30PM</td>\n",
       "      <td>68625626-8085-44e4-bdb3-d8e6ac51c95b</td>\n",
       "      <td>New York Philharmonic</td>\n",
       "      <td>14136</td>\n",
       "      <td>2016-17</td>\n",
       "    </tr>\n",
       "    <tr>\n",
       "      <th>21606</th>\n",
       "      <td>2017-07-07T04:00:00Z</td>\n",
       "      <td>Tour</td>\n",
       "      <td>Shanghai Symphony Hall</td>\n",
       "      <td>Shanghai, CHINA</td>\n",
       "      <td>7:30PM</td>\n",
       "      <td>5c22d35f-a282-4505-bd31-df619c74f52b</td>\n",
       "      <td>New York Philharmonic</td>\n",
       "      <td>14147</td>\n",
       "      <td>2016-17</td>\n",
       "    </tr>\n",
       "  </tbody>\n",
       "</table>\n",
       "<p>21607 rows × 9 columns</p>\n",
       "</div>"
      ],
      "text/plain": [
       "                       Date                      eventType  \\\n",
       "0      1842-12-07T05:00:00Z            Subscription Season   \n",
       "1      1843-02-18T05:00:00Z            Subscription Season   \n",
       "2      1843-04-07T05:00:00Z                        Special   \n",
       "3      1843-04-22T05:00:00Z            Subscription Season   \n",
       "4      1843-11-18T05:00:00Z            Subscription Season   \n",
       "...                     ...                            ...   \n",
       "21602  2017-06-24T04:00:00Z                        Chamber   \n",
       "21603  2017-07-02T04:00:00Z                           Tour   \n",
       "21604  2017-07-03T04:00:00Z                           Tour   \n",
       "21605  2017-07-04T04:00:00Z  Tour - Young People's Concert   \n",
       "21606  2017-07-07T04:00:00Z                           Tour   \n",
       "\n",
       "                                      Venue          Location    Time  \\\n",
       "0                              Apollo Rooms     Manhattan, NY  8:00PM   \n",
       "1                              Apollo Rooms     Manhattan, NY  8:00PM   \n",
       "2                              Apollo Rooms     Manhattan, NY  8:00PM   \n",
       "3                              Apollo Rooms     Manhattan, NY  8:00PM   \n",
       "4                              Apollo Rooms     Manhattan, NY    None   \n",
       "...                                     ...               ...     ...   \n",
       "21602                            Guild Hall  East Hampton, NY    None   \n",
       "21603                Shanghai Symphony Hall   Shanghai, CHINA  7:30PM   \n",
       "21604                Shanghai Symphony Hall   Shanghai, CHINA  7:30PM   \n",
       "21605  Shanghai Symphony Hall--Chamber Hall   Shanghai, CHINA  7:30PM   \n",
       "21606                Shanghai Symphony Hall   Shanghai, CHINA  7:30PM   \n",
       "\n",
       "                                         id  \\\n",
       "0      38e072a7-8fc9-4f9a-8eac-3957905c0002   \n",
       "1      c7b2b95c-5e0b-431c-a340-5b37fc860b34   \n",
       "2      894e1a52-1ae5-4fa7-aec0-b99997555a37   \n",
       "3      34ec2c2b-3297-4716-9831-b538310462b7   \n",
       "4      610a4acc-94e4-4cd6-bdc1-8ad020edc7e9   \n",
       "...                                     ...   \n",
       "21602  3d50968c-2e8b-405f-969c-ba36f941f393   \n",
       "21603  adb9fc8b-95bc-47d0-9f4b-78fc242f1f8f   \n",
       "21604  f072c652-c452-4ad4-975a-f6abd5ff8b4d   \n",
       "21605  68625626-8085-44e4-bdb3-d8e6ac51c95b   \n",
       "21606  5c22d35f-a282-4505-bd31-df619c74f52b   \n",
       "\n",
       "                                      orchestra programID   season  \n",
       "0                         New York Philharmonic      3853  1842-43  \n",
       "1                         New York Philharmonic      5178  1842-43  \n",
       "2      Musicians from the New York Philharmonic     10785  1842-43  \n",
       "3                         New York Philharmonic      5887  1842-43  \n",
       "4                         New York Philharmonic       305  1843-44  \n",
       "...                                         ...       ...      ...  \n",
       "21602  Musicians from the New York Philharmonic     14189  2016-17  \n",
       "21603                     New York Philharmonic     14146  2016-17  \n",
       "21604                     New York Philharmonic     14148  2016-17  \n",
       "21605                     New York Philharmonic     14136  2016-17  \n",
       "21606                     New York Philharmonic     14147  2016-17  \n",
       "\n",
       "[21607 rows x 9 columns]"
      ]
     },
     "execution_count": 15,
     "metadata": {},
     "output_type": "execute_result"
    }
   ],
   "source": [
    "from pandas.io.json import json_normalize\n",
    "\n",
    "Target_df = pd.json_normalize(data=json_df['programs'], record_path = ['concerts'], meta=[ 'id', 'orchestra', 'programID', 'season'])\n",
    "Target_df"
   ]
  },
  {
   "cell_type": "markdown",
   "metadata": {
    "ExecuteTime": {
     "end_time": "2020-05-18T06:59:29.999784Z",
     "start_time": "2020-05-18T06:59:29.990045Z"
    }
   },
   "source": [
    "## Normalize a json data to get an output with columns :\n",
    "\n",
    "soloistName \tsoloistRoles \tsoloistInstrument \tid"
   ]
  },
  {
   "cell_type": "code",
   "execution_count": 16,
   "metadata": {},
   "outputs": [
    {
     "data": {
      "text/html": [
       "<div>\n",
       "<style scoped>\n",
       "    .dataframe tbody tr th:only-of-type {\n",
       "        vertical-align: middle;\n",
       "    }\n",
       "\n",
       "    .dataframe tbody tr th {\n",
       "        vertical-align: top;\n",
       "    }\n",
       "\n",
       "    .dataframe thead th {\n",
       "        text-align: right;\n",
       "    }\n",
       "</style>\n",
       "<table border=\"1\" class=\"dataframe\">\n",
       "  <thead>\n",
       "    <tr style=\"text-align: right;\">\n",
       "      <th></th>\n",
       "      <th>soloistName</th>\n",
       "      <th>soloistRoles</th>\n",
       "      <th>soloistInstrument</th>\n",
       "      <th>id</th>\n",
       "    </tr>\n",
       "  </thead>\n",
       "  <tbody>\n",
       "    <tr>\n",
       "      <th>0</th>\n",
       "      <td>Otto, Antoinette</td>\n",
       "      <td>S</td>\n",
       "      <td>Soprano</td>\n",
       "      <td>38e072a7-8fc9-4f9a-8eac-3957905c0002</td>\n",
       "    </tr>\n",
       "    <tr>\n",
       "      <th>1</th>\n",
       "      <td>Scharfenberg, William</td>\n",
       "      <td>A</td>\n",
       "      <td>Piano</td>\n",
       "      <td>38e072a7-8fc9-4f9a-8eac-3957905c0002</td>\n",
       "    </tr>\n",
       "    <tr>\n",
       "      <th>2</th>\n",
       "      <td>Hill, Ureli Corelli</td>\n",
       "      <td>A</td>\n",
       "      <td>Violin</td>\n",
       "      <td>38e072a7-8fc9-4f9a-8eac-3957905c0002</td>\n",
       "    </tr>\n",
       "    <tr>\n",
       "      <th>3</th>\n",
       "      <td>Derwort, G. H.</td>\n",
       "      <td>A</td>\n",
       "      <td>Viola</td>\n",
       "      <td>38e072a7-8fc9-4f9a-8eac-3957905c0002</td>\n",
       "    </tr>\n",
       "    <tr>\n",
       "      <th>4</th>\n",
       "      <td>Boucher, Alfred</td>\n",
       "      <td>A</td>\n",
       "      <td>Cello</td>\n",
       "      <td>38e072a7-8fc9-4f9a-8eac-3957905c0002</td>\n",
       "    </tr>\n",
       "    <tr>\n",
       "      <th>...</th>\n",
       "      <td>...</td>\n",
       "      <td>...</td>\n",
       "      <td>...</td>\n",
       "      <td>...</td>\n",
       "    </tr>\n",
       "    <tr>\n",
       "      <th>56189</th>\n",
       "      <td>Xu, Weiqin</td>\n",
       "      <td>S</td>\n",
       "      <td>Baritone</td>\n",
       "      <td>68625626-8085-44e4-bdb3-d8e6ac51c95b</td>\n",
       "    </tr>\n",
       "    <tr>\n",
       "      <th>56190</th>\n",
       "      <td>Martin, Christopher</td>\n",
       "      <td>S</td>\n",
       "      <td>Trumpet</td>\n",
       "      <td>5c22d35f-a282-4505-bd31-df619c74f52b</td>\n",
       "    </tr>\n",
       "    <tr>\n",
       "      <th>56191</th>\n",
       "      <td>Shryock, Grace</td>\n",
       "      <td>S</td>\n",
       "      <td>English Horn</td>\n",
       "      <td>5c22d35f-a282-4505-bd31-df619c74f52b</td>\n",
       "    </tr>\n",
       "    <tr>\n",
       "      <th>56192</th>\n",
       "      <td>Jazz at Lincoln Center Orchestra with Wynton M...</td>\n",
       "      <td>S</td>\n",
       "      <td>Jazz Ensemble</td>\n",
       "      <td>5c22d35f-a282-4505-bd31-df619c74f52b</td>\n",
       "    </tr>\n",
       "    <tr>\n",
       "      <th>56193</th>\n",
       "      <td>Jazz at Lincoln Center Orchestra with Wynton M...</td>\n",
       "      <td>S</td>\n",
       "      <td>Jazz Ensemble</td>\n",
       "      <td>5c22d35f-a282-4505-bd31-df619c74f52b</td>\n",
       "    </tr>\n",
       "  </tbody>\n",
       "</table>\n",
       "<p>56194 rows × 4 columns</p>\n",
       "</div>"
      ],
      "text/plain": [
       "                                             soloistName soloistRoles  \\\n",
       "0                                       Otto, Antoinette            S   \n",
       "1                                  Scharfenberg, William            A   \n",
       "2                                    Hill, Ureli Corelli            A   \n",
       "3                                         Derwort, G. H.            A   \n",
       "4                                        Boucher, Alfred            A   \n",
       "...                                                  ...          ...   \n",
       "56189                                         Xu, Weiqin            S   \n",
       "56190                                Martin, Christopher            S   \n",
       "56191                                     Shryock, Grace            S   \n",
       "56192  Jazz at Lincoln Center Orchestra with Wynton M...            S   \n",
       "56193  Jazz at Lincoln Center Orchestra with Wynton M...            S   \n",
       "\n",
       "      soloistInstrument                                    id  \n",
       "0               Soprano  38e072a7-8fc9-4f9a-8eac-3957905c0002  \n",
       "1                 Piano  38e072a7-8fc9-4f9a-8eac-3957905c0002  \n",
       "2                Violin  38e072a7-8fc9-4f9a-8eac-3957905c0002  \n",
       "3                 Viola  38e072a7-8fc9-4f9a-8eac-3957905c0002  \n",
       "4                 Cello  38e072a7-8fc9-4f9a-8eac-3957905c0002  \n",
       "...                 ...                                   ...  \n",
       "56189          Baritone  68625626-8085-44e4-bdb3-d8e6ac51c95b  \n",
       "56190           Trumpet  5c22d35f-a282-4505-bd31-df619c74f52b  \n",
       "56191      English Horn  5c22d35f-a282-4505-bd31-df619c74f52b  \n",
       "56192     Jazz Ensemble  5c22d35f-a282-4505-bd31-df619c74f52b  \n",
       "56193     Jazz Ensemble  5c22d35f-a282-4505-bd31-df619c74f52b  \n",
       "\n",
       "[56194 rows x 4 columns]"
      ]
     },
     "execution_count": 16,
     "metadata": {},
     "output_type": "execute_result"
    }
   ],
   "source": [
    "Target_df_s = pd.json_normalize(data=json_df['programs'],record_path = ['works','soloists'], meta='id')\n",
    "Target_df_s"
   ]
  },
  {
   "cell_type": "markdown",
   "metadata": {},
   "source": [
    "## Normalize a json to get an output with columns\n",
    "soloistName \tsoloistRoles \tsoloistInstrument \tid \torchestra \tprogramID \tseason \t \tDate \teventType \tVenue \tLocation \tTime"
   ]
  },
  {
   "cell_type": "code",
   "execution_count": 17,
   "metadata": {},
   "outputs": [
    {
     "data": {
      "text/html": [
       "<div>\n",
       "<style scoped>\n",
       "    .dataframe tbody tr th:only-of-type {\n",
       "        vertical-align: middle;\n",
       "    }\n",
       "\n",
       "    .dataframe tbody tr th {\n",
       "        vertical-align: top;\n",
       "    }\n",
       "\n",
       "    .dataframe thead th {\n",
       "        text-align: right;\n",
       "    }\n",
       "</style>\n",
       "<table border=\"1\" class=\"dataframe\">\n",
       "  <thead>\n",
       "    <tr style=\"text-align: right;\">\n",
       "      <th></th>\n",
       "      <th>soloistName</th>\n",
       "      <th>soloistRoles</th>\n",
       "      <th>soloistInstrument</th>\n",
       "      <th>id</th>\n",
       "      <th>orchestra</th>\n",
       "      <th>programID</th>\n",
       "      <th>season</th>\n",
       "      <th>Date</th>\n",
       "      <th>eventType</th>\n",
       "      <th>Venue</th>\n",
       "      <th>Location</th>\n",
       "      <th>Time</th>\n",
       "    </tr>\n",
       "  </thead>\n",
       "  <tbody>\n",
       "    <tr>\n",
       "      <th>0</th>\n",
       "      <td>Otto, Antoinette</td>\n",
       "      <td>S</td>\n",
       "      <td>Soprano</td>\n",
       "      <td>38e072a7-8fc9-4f9a-8eac-3957905c0002</td>\n",
       "      <td>New York Philharmonic</td>\n",
       "      <td>3853</td>\n",
       "      <td>1842-43</td>\n",
       "      <td>NaN</td>\n",
       "      <td>NaN</td>\n",
       "      <td>NaN</td>\n",
       "      <td>NaN</td>\n",
       "      <td>NaN</td>\n",
       "    </tr>\n",
       "    <tr>\n",
       "      <th>1</th>\n",
       "      <td>Scharfenberg, William</td>\n",
       "      <td>A</td>\n",
       "      <td>Piano</td>\n",
       "      <td>38e072a7-8fc9-4f9a-8eac-3957905c0002</td>\n",
       "      <td>New York Philharmonic</td>\n",
       "      <td>3853</td>\n",
       "      <td>1842-43</td>\n",
       "      <td>NaN</td>\n",
       "      <td>NaN</td>\n",
       "      <td>NaN</td>\n",
       "      <td>NaN</td>\n",
       "      <td>NaN</td>\n",
       "    </tr>\n",
       "    <tr>\n",
       "      <th>2</th>\n",
       "      <td>Hill, Ureli Corelli</td>\n",
       "      <td>A</td>\n",
       "      <td>Violin</td>\n",
       "      <td>38e072a7-8fc9-4f9a-8eac-3957905c0002</td>\n",
       "      <td>New York Philharmonic</td>\n",
       "      <td>3853</td>\n",
       "      <td>1842-43</td>\n",
       "      <td>NaN</td>\n",
       "      <td>NaN</td>\n",
       "      <td>NaN</td>\n",
       "      <td>NaN</td>\n",
       "      <td>NaN</td>\n",
       "    </tr>\n",
       "    <tr>\n",
       "      <th>3</th>\n",
       "      <td>Derwort, G. H.</td>\n",
       "      <td>A</td>\n",
       "      <td>Viola</td>\n",
       "      <td>38e072a7-8fc9-4f9a-8eac-3957905c0002</td>\n",
       "      <td>New York Philharmonic</td>\n",
       "      <td>3853</td>\n",
       "      <td>1842-43</td>\n",
       "      <td>NaN</td>\n",
       "      <td>NaN</td>\n",
       "      <td>NaN</td>\n",
       "      <td>NaN</td>\n",
       "      <td>NaN</td>\n",
       "    </tr>\n",
       "    <tr>\n",
       "      <th>4</th>\n",
       "      <td>Boucher, Alfred</td>\n",
       "      <td>A</td>\n",
       "      <td>Cello</td>\n",
       "      <td>38e072a7-8fc9-4f9a-8eac-3957905c0002</td>\n",
       "      <td>New York Philharmonic</td>\n",
       "      <td>3853</td>\n",
       "      <td>1842-43</td>\n",
       "      <td>NaN</td>\n",
       "      <td>NaN</td>\n",
       "      <td>NaN</td>\n",
       "      <td>NaN</td>\n",
       "      <td>NaN</td>\n",
       "    </tr>\n",
       "    <tr>\n",
       "      <th>...</th>\n",
       "      <td>...</td>\n",
       "      <td>...</td>\n",
       "      <td>...</td>\n",
       "      <td>...</td>\n",
       "      <td>...</td>\n",
       "      <td>...</td>\n",
       "      <td>...</td>\n",
       "      <td>...</td>\n",
       "      <td>...</td>\n",
       "      <td>...</td>\n",
       "      <td>...</td>\n",
       "      <td>...</td>\n",
       "    </tr>\n",
       "    <tr>\n",
       "      <th>21602</th>\n",
       "      <td>NaN</td>\n",
       "      <td>NaN</td>\n",
       "      <td>NaN</td>\n",
       "      <td>NaN</td>\n",
       "      <td>NaN</td>\n",
       "      <td>NaN</td>\n",
       "      <td>NaN</td>\n",
       "      <td>2017-06-24T04:00:00Z</td>\n",
       "      <td>Chamber</td>\n",
       "      <td>Guild Hall</td>\n",
       "      <td>East Hampton, NY</td>\n",
       "      <td>None</td>\n",
       "    </tr>\n",
       "    <tr>\n",
       "      <th>21603</th>\n",
       "      <td>NaN</td>\n",
       "      <td>NaN</td>\n",
       "      <td>NaN</td>\n",
       "      <td>NaN</td>\n",
       "      <td>NaN</td>\n",
       "      <td>NaN</td>\n",
       "      <td>NaN</td>\n",
       "      <td>2017-07-02T04:00:00Z</td>\n",
       "      <td>Tour</td>\n",
       "      <td>Shanghai Symphony Hall</td>\n",
       "      <td>Shanghai, CHINA</td>\n",
       "      <td>7:30PM</td>\n",
       "    </tr>\n",
       "    <tr>\n",
       "      <th>21604</th>\n",
       "      <td>NaN</td>\n",
       "      <td>NaN</td>\n",
       "      <td>NaN</td>\n",
       "      <td>NaN</td>\n",
       "      <td>NaN</td>\n",
       "      <td>NaN</td>\n",
       "      <td>NaN</td>\n",
       "      <td>2017-07-03T04:00:00Z</td>\n",
       "      <td>Tour</td>\n",
       "      <td>Shanghai Symphony Hall</td>\n",
       "      <td>Shanghai, CHINA</td>\n",
       "      <td>7:30PM</td>\n",
       "    </tr>\n",
       "    <tr>\n",
       "      <th>21605</th>\n",
       "      <td>NaN</td>\n",
       "      <td>NaN</td>\n",
       "      <td>NaN</td>\n",
       "      <td>NaN</td>\n",
       "      <td>NaN</td>\n",
       "      <td>NaN</td>\n",
       "      <td>NaN</td>\n",
       "      <td>2017-07-04T04:00:00Z</td>\n",
       "      <td>Tour - Young People's Concert</td>\n",
       "      <td>Shanghai Symphony Hall--Chamber Hall</td>\n",
       "      <td>Shanghai, CHINA</td>\n",
       "      <td>7:30PM</td>\n",
       "    </tr>\n",
       "    <tr>\n",
       "      <th>21606</th>\n",
       "      <td>NaN</td>\n",
       "      <td>NaN</td>\n",
       "      <td>NaN</td>\n",
       "      <td>NaN</td>\n",
       "      <td>NaN</td>\n",
       "      <td>NaN</td>\n",
       "      <td>NaN</td>\n",
       "      <td>2017-07-07T04:00:00Z</td>\n",
       "      <td>Tour</td>\n",
       "      <td>Shanghai Symphony Hall</td>\n",
       "      <td>Shanghai, CHINA</td>\n",
       "      <td>7:30PM</td>\n",
       "    </tr>\n",
       "  </tbody>\n",
       "</table>\n",
       "<p>77801 rows × 12 columns</p>\n",
       "</div>"
      ],
      "text/plain": [
       "                 soloistName soloistRoles soloistInstrument  \\\n",
       "0           Otto, Antoinette            S           Soprano   \n",
       "1      Scharfenberg, William            A             Piano   \n",
       "2        Hill, Ureli Corelli            A            Violin   \n",
       "3             Derwort, G. H.            A             Viola   \n",
       "4            Boucher, Alfred            A             Cello   \n",
       "...                      ...          ...               ...   \n",
       "21602                    NaN          NaN               NaN   \n",
       "21603                    NaN          NaN               NaN   \n",
       "21604                    NaN          NaN               NaN   \n",
       "21605                    NaN          NaN               NaN   \n",
       "21606                    NaN          NaN               NaN   \n",
       "\n",
       "                                         id              orchestra programID  \\\n",
       "0      38e072a7-8fc9-4f9a-8eac-3957905c0002  New York Philharmonic      3853   \n",
       "1      38e072a7-8fc9-4f9a-8eac-3957905c0002  New York Philharmonic      3853   \n",
       "2      38e072a7-8fc9-4f9a-8eac-3957905c0002  New York Philharmonic      3853   \n",
       "3      38e072a7-8fc9-4f9a-8eac-3957905c0002  New York Philharmonic      3853   \n",
       "4      38e072a7-8fc9-4f9a-8eac-3957905c0002  New York Philharmonic      3853   \n",
       "...                                     ...                    ...       ...   \n",
       "21602                                   NaN                    NaN       NaN   \n",
       "21603                                   NaN                    NaN       NaN   \n",
       "21604                                   NaN                    NaN       NaN   \n",
       "21605                                   NaN                    NaN       NaN   \n",
       "21606                                   NaN                    NaN       NaN   \n",
       "\n",
       "        season                  Date                      eventType  \\\n",
       "0      1842-43                   NaN                            NaN   \n",
       "1      1842-43                   NaN                            NaN   \n",
       "2      1842-43                   NaN                            NaN   \n",
       "3      1842-43                   NaN                            NaN   \n",
       "4      1842-43                   NaN                            NaN   \n",
       "...        ...                   ...                            ...   \n",
       "21602      NaN  2017-06-24T04:00:00Z                        Chamber   \n",
       "21603      NaN  2017-07-02T04:00:00Z                           Tour   \n",
       "21604      NaN  2017-07-03T04:00:00Z                           Tour   \n",
       "21605      NaN  2017-07-04T04:00:00Z  Tour - Young People's Concert   \n",
       "21606      NaN  2017-07-07T04:00:00Z                           Tour   \n",
       "\n",
       "                                      Venue          Location    Time  \n",
       "0                                       NaN               NaN     NaN  \n",
       "1                                       NaN               NaN     NaN  \n",
       "2                                       NaN               NaN     NaN  \n",
       "3                                       NaN               NaN     NaN  \n",
       "4                                       NaN               NaN     NaN  \n",
       "...                                     ...               ...     ...  \n",
       "21602                            Guild Hall  East Hampton, NY    None  \n",
       "21603                Shanghai Symphony Hall   Shanghai, CHINA  7:30PM  \n",
       "21604                Shanghai Symphony Hall   Shanghai, CHINA  7:30PM  \n",
       "21605  Shanghai Symphony Hall--Chamber Hall   Shanghai, CHINA  7:30PM  \n",
       "21606                Shanghai Symphony Hall   Shanghai, CHINA  7:30PM  \n",
       "\n",
       "[77801 rows x 12 columns]"
      ]
     },
     "execution_count": 17,
     "metadata": {},
     "output_type": "execute_result"
    }
   ],
   "source": [
    "Target_df_s_1 = pd.json_normalize(data=json_df['programs'],record_path = ['works','soloists'], meta=[ 'id', 'orchestra', 'programID', 'season'],)\n",
    "Target_df_s_2 = pd.json_normalize(data=json_df['programs'], record_path = ['concerts'])\n",
    "Target_df_s_3=pd.concat([Target_df_s_1, Target_df_s_2])\n",
    "Target_df_s_3"
   ]
  },
  {
   "cell_type": "code",
   "execution_count": null,
   "metadata": {},
   "outputs": [],
   "source": []
  }
 ],
 "metadata": {
  "kernelspec": {
   "display_name": "Python 3",
   "language": "python",
   "name": "python3"
  },
  "language_info": {
   "codemirror_mode": {
    "name": "ipython",
    "version": 3
   },
   "file_extension": ".py",
   "mimetype": "text/x-python",
   "name": "python",
   "nbconvert_exporter": "python",
   "pygments_lexer": "ipython3",
   "version": "3.7.6"
  },
  "toc": {
   "base_numbering": 1,
   "nav_menu": {},
   "number_sections": true,
   "sideBar": true,
   "skip_h1_title": false,
   "title_cell": "Table of Contents",
   "title_sidebar": "Contents",
   "toc_cell": false,
   "toc_position": {},
   "toc_section_display": true,
   "toc_window_display": false
  },
  "varInspector": {
   "cols": {
    "lenName": 16,
    "lenType": 16,
    "lenVar": 40
   },
   "kernels_config": {
    "python": {
     "delete_cmd_postfix": "",
     "delete_cmd_prefix": "del ",
     "library": "var_list.py",
     "varRefreshCmd": "print(var_dic_list())"
    },
    "r": {
     "delete_cmd_postfix": ") ",
     "delete_cmd_prefix": "rm(",
     "library": "var_list.r",
     "varRefreshCmd": "cat(var_dic_list()) "
    }
   },
   "types_to_exclude": [
    "module",
    "function",
    "builtin_function_or_method",
    "instance",
    "_Feature"
   ],
   "window_display": false
  }
 },
 "nbformat": 4,
 "nbformat_minor": 4
}
